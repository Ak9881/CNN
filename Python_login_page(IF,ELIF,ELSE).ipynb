{
 "cells": [
  {
   "cell_type": "code",
   "execution_count": 28,
   "id": "1b791ffa",
   "metadata": {},
   "outputs": [
    {
     "name": "stdout",
     "output_type": "stream",
     "text": [
      "Enter your name : ankit@gmail.com\n",
      "Enter your Password : 000\n",
      "Please conrrect your password\n",
      "Enter your Password : 000\n",
      "Still Password is wrong\n"
     ]
    }
   ],
   "source": [
    "#email_id = ankit@gmail.com\n",
    "#Password = '1234'\n",
    "email_id = input('Enter your name : ')\n",
    "if '@' in email_id:\n",
    "    Password = input('Enter your Password : ')\n",
    "    #pass\n",
    "    if (email_id == 'ankit@gmail.com') & (Password == '1234'):\n",
    "            print('Welcome')\n",
    "    elif (email_id == 'ankit@gmail.com') & (Password != '1234'):\n",
    "        print('Please conrrect your password')\n",
    "        Password = input('Enter your Password : ')\n",
    "        if Password == '1234':\n",
    "            print('All ok to go')\n",
    "        else:\n",
    "                print('Still Password is wrong')\n",
    "    else:\n",
    "            print('Incorrect credentials')\n",
    "else:\n",
    "    print('Please enter correct E-mail ')\n"
   ]
  },
  {
   "cell_type": "code",
   "execution_count": null,
   "id": "3426ba0e",
   "metadata": {},
   "outputs": [],
   "source": []
  }
 ],
 "metadata": {
  "kernelspec": {
   "display_name": "Python 3 (ipykernel)",
   "language": "python",
   "name": "python3"
  },
  "language_info": {
   "codemirror_mode": {
    "name": "ipython",
    "version": 3
   },
   "file_extension": ".py",
   "mimetype": "text/x-python",
   "name": "python",
   "nbconvert_exporter": "python",
   "pygments_lexer": "ipython3",
   "version": "3.11.5"
  }
 },
 "nbformat": 4,
 "nbformat_minor": 5
}
